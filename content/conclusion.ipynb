{
 "cells": [
  {
   "cell_type": "markdown",
   "id": "8215105b",
   "metadata": {},
   "source": [
    "# Conclusion\n",
    "\n",
    "By checking the word clouds and the titles, the categories of papers are pretty clear. The editorial we wrote was based on this analysis, and we went through each paper category in a separate section. As a side note, although this analysis does not really have scientific value, apart from sparing us from manually assigning papers to categories, it is concise and features a range of visualizations. So we chose to use the analysis as a proof of concept for reproducible publications using the [Neurolibre](https://neurolibre.org) preprint service, which may be the medium where you are reading these lines."
   ]
  }
 ],
 "metadata": {
  "jupytext": {
   "cell_metadata_filter": "-all"
  },
  "kernelspec": {
   "display_name": "Python 3 (ipykernel)",
   "language": "python",
   "name": "python3"
  },
  "language_info": {
   "codemirror_mode": {
    "name": "ipython",
    "version": 3
   },
   "file_extension": ".py",
   "mimetype": "text/x-python",
   "name": "python",
   "nbconvert_exporter": "python",
   "pygments_lexer": "ipython3",
   "version": "3.8.16"
  }
 },
 "nbformat": 4,
 "nbformat_minor": 5
}
